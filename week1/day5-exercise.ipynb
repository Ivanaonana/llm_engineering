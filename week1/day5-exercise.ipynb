{
 "cells": [
  {
   "cell_type": "markdown",
   "id": "7bd88b7a",
   "metadata": {},
   "source": [
    "This notebook is about creating a brochure for a company.\n",
    "We use GPT-4o-mini to help us sort the important parts of the website."
   ]
  },
  {
   "cell_type": "code",
   "execution_count": 1,
   "id": "8b156c18",
   "metadata": {},
   "outputs": [],
   "source": [
    "# importing tools\n",
    "\n",
    "import os  # Helps us work with files and environment variables\n",
    "import requests  # Lets us fetch data from websites\n",
    "import json  # Helps us work with JSON (a way to store data)\n",
    "from typing import List  # Helps define lists in code\n",
    "from dotenv import load_dotenv  # Loads secret keys from a `.env` file\n",
    "from bs4 import BeautifulSoup  # Helps extract information from websites\n",
    "from IPython.display import Markdown, display, update_display  # Displays results nicely in Jupyter\n",
    "from openai import OpenAI  # Lets us use GPT-4o-mini"
   ]
  },
  {
   "cell_type": "code",
   "execution_count": 2,
   "id": "b70e4370",
   "metadata": {},
   "outputs": [
    {
     "name": "stdout",
     "output_type": "stream",
     "text": [
      "API key looks good so far\n"
     ]
    }
   ],
   "source": [
    "# setting up API key - a secret password to use GPT-4o-mini\n",
    "\n",
    "load_dotenv(override=True)  # Load the `.env` file\n",
    "api_key = os.getenv('OPENAI_API_KEY')  # Get the API key from the file\n",
    "\n",
    "if api_key and api_key.startswith('sk-') and len(api_key) > 10:\n",
    "    print(\"API key looks good so far\")\n",
    "else:\n",
    "    print(\"There might be a problem with your API key!\")"
   ]
  },
  {
   "cell_type": "code",
   "execution_count": 3,
   "id": "22f5bc69",
   "metadata": {},
   "outputs": [],
   "source": [
    "# setting up our AI model\n",
    "\n",
    "MODEL = 'gpt-4o-mini'  # The AI model we want to use\n",
    "openai = OpenAI(api_key=api_key)  # Connect to GPT-4o-mini using the API key"
   ]
  },
  {
   "cell_type": "code",
   "execution_count": 4,
   "id": "6ed86aa8",
   "metadata": {},
   "outputs": [],
   "source": [
    "# fetching and cleaning a website\n",
    "headers = {\n",
    " \"User-Agent\": \"Mozilla/5.0 (Windows NT 10.0; Win64; x64) AppleWebKit/537.36 (KHTML, like Gecko) Chrome/117.0.0.0 Safari/537.36\"\n",
    "}\n",
    "\n",
    "class Website:\n",
    "    def __init__(self, url):\n",
    "        self.url = url\n",
    "        response = requests.get(url, headers=headers)  # Fetch the webpage\n",
    "        self.body = response.content  # Get the raw content\n",
    "        soup = BeautifulSoup(self.body, 'html.parser')  # Parse the webpage\n",
    "        self.title = soup.title.string if soup.title else \"No title found\"  # Get the title\n",
    "        if soup.body:\n",
    "            for irrelevant in soup.body([\"script\", \"style\", \"img\", \"input\"]):\n",
    "                irrelevant.decompose()  # Remove unnecessary parts\n",
    "            self.text = soup.body.get_text(separator=\"\\n\", strip=True)  # Get the main text\n",
    "        else:\n",
    "            self.text = \"\"\n",
    "        links = [link.get('href') for link in soup.find_all('a')]  # Find all links\n",
    "        self.links = [link for link in links if link]  # Keep only valid links\n",
    "   \n",
    "    def get_contents(self):\n",
    "        return f\"Webpage Title:\\n{self.title}\\nWebpageContents:\\n{self.text}\\n\\n\"\n",
    "\n",
    "# we get the title, main text and all the links on the page"
   ]
  },
  {
   "cell_type": "code",
   "execution_count": 5,
   "id": "328cc384",
   "metadata": {},
   "outputs": [
    {
     "data": {
      "text/plain": [
       "['index.php?lang=',\n",
       " 'index.php?lang=',\n",
       " 'a-propos.php?lang=',\n",
       " '#.',\n",
       " 'conception-web.php?lang=',\n",
       " 'optimisation-SEO.php?lang=',\n",
       " 'reseaux-sociaux.php?lang=',\n",
       " 'campagne-publicitaire.php?lang=',\n",
       " 'application-web.php?lang=',\n",
       " 'application-mobile.php?lang=',\n",
       " 'portfolio.php?lang=',\n",
       " 'blogs.php?lang=',\n",
       " 'contact.php?lang=',\n",
       " 'https://www.facebook.com/DevXpressInc/',\n",
       " 'https://www.instagram.com/devxpress.ca/',\n",
       " 'https://www.linkedin.com/company/devxpress/',\n",
       " 'contact.php?lang=',\n",
       " 'blog.php?lang=en&blogId=yro9jwUOHATDJhIsYV5f',\n",
       " 'blog.php?lang=en&blogId=S1qFrJWqbLA3EcP3rdAD',\n",
       " 'portfolio-project.php?lang=en&projectId=1rEVGsCUkBgCTDi6jKq1',\n",
       " 'portfolio-project.php?lang=en&projectId=eLSIqT8ZLDnkF0ieh4uQ',\n",
       " 'portfolio-project.php?lang=en&projectId=ysmW16LKXcBRUrx1pNNX',\n",
       " 'blog.php?lang=en&blogId=Y1hPMENPmBG1CSHXsqTq',\n",
       " 'blogs.php?lang=',\n",
       " 'portfolio.php?lang=',\n",
       " 'https://www.facebook.com/DevXpressInc/',\n",
       " 'https://www.instagram.com/devxpress.ca/',\n",
       " 'https://www.linkedin.com/company/devxpress/',\n",
       " '/cdn-cgi/l/email-protection#d7beb9b1b897b3b2a1afa7a5b2a4a4f9b4b6',\n",
       " 'tel:5149094880']"
      ]
     },
     "execution_count": 5,
     "metadata": {},
     "output_type": "execute_result"
    }
   ],
   "source": [
    "devxpress = Website(\"https://devxpress.ca/\") # fetch the website\n",
    "devxpress.links # show all the linked on the website"
   ]
  },
  {
   "cell_type": "markdown",
   "id": "035add7f",
   "metadata": {},
   "source": [
    "Step 1: GPT-4o-mini to figure out which links are relevant"
   ]
  },
  {
   "cell_type": "code",
   "execution_count": 6,
   "id": "ddf55326",
   "metadata": {},
   "outputs": [],
   "source": [
    "# deciding which links are important\n",
    "\n",
    "link_system_prompt = \"You are provided with a list of links found on a webpage. \\\n",
    "You are able to decide which of the links would be most relevant to include in a brochure about the company, \\\n",
    "such as links to an About page, or a Company page, or Careers/Jobs pages.\\n\"\n",
    "link_system_prompt += \"You should respond in JSON as in this example:\"\n",
    "link_system_prompt += \"\"\"\n",
    "{\n",
    "    \"links\": [\n",
    "        {\"type\": \"about page\", \"url\": \"https://full.url/goes/here/about\"},\n",
    "        {\"type\": \"careers page\", \"url\": \"https://another.full.url/careers\"}\n",
    "    ]\n",
    "}\n",
    "\"\"\""
   ]
  },
  {
   "cell_type": "code",
   "execution_count": 7,
   "id": "ea592685",
   "metadata": {},
   "outputs": [
    {
     "name": "stdout",
     "output_type": "stream",
     "text": [
      "You are provided with a list of links found on a webpage. You are able to decide which of the links would be most relevant to include in a brochure about the company, such as links to an About page, or a Company page, or Careers/Jobs pages.\n",
      "You should respond in JSON as in this example:\n",
      "{\n",
      "    \"links\": [\n",
      "        {\"type\": \"about page\", \"url\": \"https://full.url/goes/here/about\"},\n",
      "        {\"type\": \"careers page\", \"url\": \"https://another.full.url/careers\"}\n",
      "    ]\n",
      "}\n",
      "\n"
     ]
    }
   ],
   "source": [
    "print(link_system_prompt)"
   ]
  },
  {
   "cell_type": "code",
   "execution_count": 8,
   "id": "21678253",
   "metadata": {},
   "outputs": [],
   "source": [
    "def get_links_user_prompt(website):\n",
    "    user_prompt = f\"Here is the list of links on the website of {website.url} -\"\n",
    "    user_prompt += \"please decide which of there are relevant web links for a brochure about the company, respond with the full https URL in JSON format. \\\n",
    "Do not include Terms of Service, Privact, email links. \\n\"\n",
    "    user_prompt += \"Links (some might be relative links):\\n\"\n",
    "    user_prompt += \"\\n\".join(website.links) # Add all the links, separated by newlines\n",
    "    return user_prompt"
   ]
  },
  {
   "cell_type": "code",
   "execution_count": 9,
   "id": "c6c623e4",
   "metadata": {},
   "outputs": [
    {
     "name": "stdout",
     "output_type": "stream",
     "text": [
      "Here is the list of links on the website of https://devxpress.ca/ -please decide which of there are relevant web links for a brochure about the company, respond with the full https URL in JSON format. Do not include Terms of Service, Privact, email links. \n",
      "Links (some might be relative links):\n",
      "index.php?lang=\n",
      "index.php?lang=\n",
      "a-propos.php?lang=\n",
      "#.\n",
      "conception-web.php?lang=\n",
      "optimisation-SEO.php?lang=\n",
      "reseaux-sociaux.php?lang=\n",
      "campagne-publicitaire.php?lang=\n",
      "application-web.php?lang=\n",
      "application-mobile.php?lang=\n",
      "portfolio.php?lang=\n",
      "blogs.php?lang=\n",
      "contact.php?lang=\n",
      "https://www.facebook.com/DevXpressInc/\n",
      "https://www.instagram.com/devxpress.ca/\n",
      "https://www.linkedin.com/company/devxpress/\n",
      "contact.php?lang=\n",
      "blog.php?lang=en&blogId=yro9jwUOHATDJhIsYV5f\n",
      "blog.php?lang=en&blogId=S1qFrJWqbLA3EcP3rdAD\n",
      "portfolio-project.php?lang=en&projectId=1rEVGsCUkBgCTDi6jKq1\n",
      "portfolio-project.php?lang=en&projectId=eLSIqT8ZLDnkF0ieh4uQ\n",
      "portfolio-project.php?lang=en&projectId=ysmW16LKXcBRUrx1pNNX\n",
      "blog.php?lang=en&blogId=Y1hPMENPmBG1CSHXsqTq\n",
      "blogs.php?lang=\n",
      "portfolio.php?lang=\n",
      "https://www.facebook.com/DevXpressInc/\n",
      "https://www.instagram.com/devxpress.ca/\n",
      "https://www.linkedin.com/company/devxpress/\n",
      "/cdn-cgi/l/email-protection#d7beb9b1b897b3b2a1afa7a5b2a4a4f9b4b6\n",
      "tel:5149094880\n"
     ]
    }
   ],
   "source": [
    "print(get_links_user_prompt(devxpress))"
   ]
  },
  {
   "cell_type": "code",
   "execution_count": 10,
   "id": "6ab1f63b",
   "metadata": {},
   "outputs": [],
   "source": [
    "def get_links(url):\n",
    "    try:\n",
    "        website = Website(url)\n",
    "        response = openai.chat.completions.create(\n",
    "            model=MODEL,\n",
    "            messages=[\n",
    "                {\"role\": \"system\", \"content\": link_system_prompt},\n",
    "                {\"role\": \"user\", \"content\": get_links_user_prompt(website)}\n",
    "            ],\n",
    "            response_format={\"type\": \"json_object\"}  # Ensure JSON response\n",
    "        )\n",
    "        result = response.choices[0].message.content\n",
    "        parsed_result = json.loads(result)\n",
    "        if \"links\" not in parsed_result:\n",
    "            print(\"Warning: Response missing 'links' key\")\n",
    "            return {\"links\": []}\n",
    "        return parsed_result\n",
    "    except json.JSONDecodeError as e:\n",
    "        print(f\"JSON parsing error: {e}\")\n",
    "        return {\"links\": []}\n",
    "    except Exception as e:\n",
    "        print(f\"Error in get_links: {e}\")\n",
    "        return {\"links\": []}"
   ]
  },
  {
   "cell_type": "code",
   "execution_count": 11,
   "id": "d0492410",
   "metadata": {},
   "outputs": [
    {
     "data": {
      "text/plain": [
       "{'links': [{'type': 'about page',\n",
       "   'url': 'https://devxpress.ca/a-propos.php?lang='},\n",
       "  {'type': 'portfolio page',\n",
       "   'url': 'https://devxpress.ca/portfolio.php?lang='},\n",
       "  {'type': 'contact page', 'url': 'https://devxpress.ca/contact.php?lang='},\n",
       "  {'type': 'blog page', 'url': 'https://devxpress.ca/blogs.php?lang='},\n",
       "  {'type': 'portfolio project',\n",
       "   'url': 'https://devxpress.ca/portfolio-project.php?lang=en&projectId=1rEVGsCUkBgCTDi6jKq1'},\n",
       "  {'type': 'portfolio project',\n",
       "   'url': 'https://devxpress.ca/portfolio-project.php?lang=en&projectId=eLSIqT8ZLDnkF0ieh4uQ'},\n",
       "  {'type': 'portfolio project',\n",
       "   'url': 'https://devxpress.ca/portfolio-project.php?lang=en&projectId=ysmW16LKXcBRUrx1pNNX'},\n",
       "  {'type': 'blog post',\n",
       "   'url': 'https://devxpress.ca/blog.php?lang=en&blogId=yro9jwUOHATDJhIsYV5f'},\n",
       "  {'type': 'blog post',\n",
       "   'url': 'https://devxpress.ca/blog.php?lang=en&blogId=S1qFrJWqbLA3EcP3rdAD'},\n",
       "  {'type': 'blog post',\n",
       "   'url': 'https://devxpress.ca/blog.php?lang=en&blogId=Y1hPMENPmBG1CSHXsqTq'}]}"
      ]
     },
     "execution_count": 11,
     "metadata": {},
     "output_type": "execute_result"
    }
   ],
   "source": [
    "get_links(\"https://devxpress.ca/\")"
   ]
  },
  {
   "cell_type": "markdown",
   "id": "e22143a9",
   "metadata": {},
   "source": [
    "Step 2: Make a brochure"
   ]
  },
  {
   "cell_type": "code",
   "execution_count": 12,
   "id": "66c27649",
   "metadata": {},
   "outputs": [],
   "source": [
    "def get_all_details(url):\n",
    "    try:\n",
    "        # Get the landing page\n",
    "        result = \"Landing page:\\n\"\n",
    "        result += Website(url).get_contents()\n",
    "        \n",
    "        # Get and validate links\n",
    "        links = get_links(url)\n",
    "        if not links or \"links\" not in links:\n",
    "            print(\"Warning: No valid links found\")\n",
    "            return result\n",
    "        \n",
    "        print(\"Found links:\", links)\n",
    "        \n",
    "        # Process each link with error handling\n",
    "        for link in links[\"links\"]:\n",
    "            try:\n",
    "                # Ensure the URL is absolute\n",
    "                link_url = link[\"url\"]\n",
    "                if not link_url.startswith(('http://', 'https://')):\n",
    "                    link_url = f\"{url.rstrip('/')}/{link_url.lstrip('/')}\"\n",
    "                \n",
    "                result += f\"\\n\\n{link['type']}\\n\"\n",
    "                result += Website(link_url).get_contents()\n",
    "            except Exception as e:\n",
    "                print(f\"Warning: Could not fetch content for {link.get('url', 'unknown URL')}: {str(e)}\")\n",
    "                continue\n",
    "                \n",
    "        return result\n",
    "    except Exception as e:\n",
    "        print(f\"Error in get_all_details: {str(e)}\")\n",
    "        return \"Error occurred while generating brochure.\""
   ]
  },
  {
   "cell_type": "code",
   "execution_count": 13,
   "id": "6487d3ce",
   "metadata": {},
   "outputs": [
    {
     "name": "stdout",
     "output_type": "stream",
     "text": [
      "Found links: {'links': [{'type': 'about page', 'url': 'https://devxpress.ca/a-propos.php?lang='}, {'type': 'portfolio page', 'url': 'https://devxpress.ca/portfolio.php?lang='}, {'type': 'contact page', 'url': 'https://devxpress.ca/contact.php?lang='}, {'type': 'careers page', 'url': 'https://devxpress.ca/careers.php?lang='}]}\n",
      "Landing page:\n",
      "Webpage Title:\n",
      "DevXpress | Agence Web\n",
      "WebpageContents:\n",
      "Loading...\n",
      "Home\n",
      "About\n",
      "Services\n",
      "Web Design\n",
      "SEO Optimization\n",
      "Social Networks\n",
      "Advertising Campaigns\n",
      "Web application\n",
      "Mobile app\n",
      "Portfolio\n",
      "Blog\n",
      "Contact us\n",
      "Facebook\n",
      "Instagram\n",
      "LinkedIn\n",
      "Get a quote\n",
      "DevXpress\n",
      "We are\n",
      "Your trusted partners for the creation of websites, technological solutions and digital strategies.\n",
      "Our mission\n",
      "Our mission is to create websites that captivate and engage users. We aim to deliver a seamless user experience, with cutting-edge design and clean, high-performance code.\n",
      "Our\n",
      "Values\n",
      "Quality & Innovation\n",
      "Collaboration & Agility\n",
      "Integrity & Customer Service\n",
      "Recent Projects\n",
      "- 11 Aug 2024\n",
      "- 09 Aug 2024\n",
      "Appro Expert\n",
      "Showcase site - 17 Jun 2024\n",
      "Service Renaud\n",
      "Showcase site - 13 Jun 2024\n",
      "Gagné Solution Électrique\n",
      "Showcase site - 07 Jun 2024\n",
      "- 21 May 2024\n",
      "All our blogs\n",
      "All our projects\n",
      "Web Agency Quebec, Montreal\n",
      "2-4275 boul. Maisonneuve West,\n",
      "Westmount, QC, H3Z 1K8\n",
      "[email protected]\n",
      "(514) 909-4880\n",
      "\n",
      "\n",
      "\n",
      "about page\n",
      "Webpage Title:\n",
      "DevXpress | A Propos\n",
      "WebpageContents:\n",
      "Chargement...\n",
      "Accueil\n",
      "À propos\n",
      "Services\n",
      "Conception Web\n",
      "Optimisation SEO\n",
      "Réseaux Sociaux\n",
      "Campagnes Publicitaire\n",
      "Application Web\n",
      "Application Mobile\n",
      "Portfolio\n",
      "Blog\n",
      "Contactez-nous\n",
      "Facebook\n",
      "Instagram\n",
      "LinkedIn\n",
      "Obtenir une soumission\n",
      "Agence web dynamique,\n",
      "Basée a Montréal\n",
      "Venant d'une rencontre de plus de 20 ans, DevXpress a vu le jour en 2022 à la suite d'un partage commun de passion pour les possibilités du digital afin de créer une agence web innovante. Avec notre expertise variée et une vision commune, nous avons fondé notre entreprise dans le but de rendre le web accessible à tous.\n",
      "20\n",
      "+\n",
      "Avis 5⭐\n",
      "100\n",
      "+\n",
      "Mandats\n",
      "100\n",
      "%\n",
      "Satisfaction\n",
      "1000\n",
      "+\n",
      "Prospects générés\n",
      "Encore plus sur nous\n",
      "Objectif\n",
      "Notre objectif principal est de proposer des solutions digitales créatives et sur mesure, répondant aux besoins spécifiques de chaque client. Animés par notre désir d'innover et de repousser les frontières de la technologie, nous nous sommes engagés à offrir des services de haute qualité, combinant compétences techniques et flair artistique. À travers notre entreprise, nous aspirons à façonner l'avenir du web, en aidant les entreprises et les individus à réussir dans un monde de plus en plus connecté.\n",
      "Notre évolution\n",
      "Depuis sa fondation, notre agence web a parcouru un chemin passionnant, ponctué d'apprentissages enrichissants et de relations florissantes à travers le Québec et partout ailleurs dans le monde. Au fil des années, nous avons consolidé notre expertise technique et affiné notre sens de la créativité, ce qui nous a permis de proposer des solutions digitales toujours plus innovantes et adaptées aux besoins changeants de nos clients.\n",
      "Aujourd'hui, nous sommes fiers de constater le chemin parcouru depuis nos modestes débuts. Notre entreprise continue de croître et d'évoluer, nourrie par notre engagement envers l'excellence et notre passion pour l'innovation. Nous sommes impatients de poursuivre notre parcours, de renforcer nos relations avec la communauté et de contribuer au développement continu du paysage digital au Québec et partout ailleurs dans le monde.\n",
      "Témoignages\n",
      "01\n",
      "“Je suis absolument ravi de ma collaboration avec DevXpress. Leur équipe est compétente et créative, et a su répondre à                                        toutes mes attentes pour mon projet en ligne. La communication a été excellente tout au long du processus et j'ai été                                        impressionné par leur capacité à comprendre mes besoins et à les traduire en un site web à la fois esthétique et                                        fonctionnel. Je recommande sans réserve cette agence web pour tous vos projets en ligne.”\n",
      "Olivier Beauchamps\n",
      "“Excellent Service. Des personnes trés compétentes, un plaisir de travailler avec eux.”\n",
      "Yannick Kongue\n",
      "Kdy-sc\n",
      "“Merci au professionnalisme de Devxpress, le projet s'est bien déroulé et je suis plus que satisfaite du résultat, au top franchement! Vous pouvez leur faire confiance les yeux fermés!”\n",
      "Rym Bourezg\n",
      "RymYoga\n",
      "“J'ai travaillé avec DevXpress pour plusieurs de mes projets en ligne et je suis toujours impressionné par leur niveau de                                        qualité et de professionnalisme. Ils sont à l'écoute de mes besoins et me fournissent des solutions créatives pour                                        améliorer mon site web. La mise en œuvre du projet a été rapide et efficace, et le résultat final est fantastique.”\n",
      "Samuel Tremblay\n",
      "Agence Web Québec, Montréal\n",
      "2-4275 boul. Maisonneuve Ouest,\n",
      "Westmount, QC, H3Z 1K8\n",
      "[email protected]\n",
      "(514) 909-4880\n",
      "\n",
      "\n",
      "\n",
      "portfolio page\n",
      "Webpage Title:\n",
      "DevXpress | Portfolio\n",
      "WebpageContents:\n",
      "Chargement...\n",
      "Accueil\n",
      "À propos\n",
      "Services\n",
      "Conception Web\n",
      "Optimisation SEO\n",
      "Réseaux Sociaux\n",
      "Campagnes Publicitaire\n",
      "Application Web\n",
      "Application Mobile\n",
      "Portfolio\n",
      "Blog\n",
      "Contactez-nous\n",
      "Facebook\n",
      "Instagram\n",
      "LinkedIn\n",
      "Obtenir une soumission\n",
      "Portfolio\n",
      "Tout\n",
      "Site vitrine\n",
      "Multipage\n",
      "E-commerce\n",
      "Appro Expert\n",
      "Site vitrine\n",
      "Groupe Progakis\n",
      "Site vitrine\n",
      "Slim Communication\n",
      "Site vitrine\n",
      "Défi de la Tortue\n",
      "Multipage\n",
      "Lave-Auto117\n",
      "Site vitrine\n",
      "Maçonnerie Impériale\n",
      "Multipage\n",
      "Transport Logistique CGML\n",
      "Site vitrine\n",
      "Groupe Lyonnais et Fils\n",
      "Site vitrine\n",
      "S.A.P.A INC & ONG V.I.E\n",
      "Site vitrine\n",
      "DBD Ménager\n",
      "Site vitrine\n",
      "Débouche Net\n",
      "Site vitrine\n",
      "Scellant Mercier\n",
      "Site vitrine\n",
      "K-tra Construction\n",
      "Site vitrine\n",
      "Vapexpress\n",
      "E-commerce\n",
      "JJM Services Ménager\n",
      "Site vitrine\n",
      "Kesse Services Inc.\n",
      "Site vitrine\n",
      "Mix Magique\n",
      "E-commerce\n",
      "DIAY S&L Inc.\n",
      "Site vitrine\n",
      "Service Renaud\n",
      "Site vitrine\n",
      "Kewix\n",
      "Multipage\n",
      "Constructiongt3\n",
      "Site vitrine\n",
      "Net Plus Climatisation\n",
      "Site vitrine\n",
      "Ferme Le Bel\n",
      "E-commerce\n",
      "Bonne Adresse\n",
      "Multipage\n",
      "Entreprises XP\n",
      "Site vitrine\n",
      "Construction et Toiture E.R.\n",
      "Site vitrine\n",
      "Forage Géo-Nord\n",
      "Site vitrine\n",
      "GGTI\n",
      "Site vitrine\n",
      "Rymyoga\n",
      "Multipage\n",
      "Gagné Solution Électrique\n",
      "Site vitrine\n",
      "SOUMISSION\n",
      "⚡ Contactez-nous pour une soumission rapide!\n",
      "Agence Web Québec, Montréal\n",
      "2-4275 boul. Maisonneuve Ouest,\n",
      "Westmount, QC, H3Z 1K8\n",
      "[email protected]\n",
      "(514) 909-4880\n",
      "\n",
      "\n",
      "\n",
      "contact page\n",
      "Webpage Title:\n",
      "DevXpress | Contact\n",
      "WebpageContents:\n",
      "Chargement...\n",
      "Accueil\n",
      "À propos\n",
      "Services\n",
      "Conception Web\n",
      "Optimisation SEO\n",
      "Réseaux Sociaux\n",
      "Campagnes Publicitaire\n",
      "Application Web\n",
      "Application Mobile\n",
      "Portfolio\n",
      "Blog\n",
      "Contactez-nous\n",
      "Facebook\n",
      "Instagram\n",
      "LinkedIn\n",
      "Obtenir une soumission\n",
      "Contactez-nous!\n",
      "Obtiens une soumission pour ton projet!\n",
      "Remplis le formulaire ci-dessous;\n",
      "Agence Web Québec, Montréal\n",
      "2-4275 boul. Maisonneuve Ouest,\n",
      "Westmount, QC, H3Z 1K8\n",
      "[email protected]\n",
      "(514) 909-4880\n",
      "\n",
      "\n",
      "\n",
      "careers page\n",
      "Webpage Title:\n",
      "404 Not Found\n",
      "WebpageContents:\n",
      "Not Found\n",
      "The requested URL was not found on this server.\n",
      "Apache/2.4.57 (Ubuntu) Server at devxpress.ca Port 80\n",
      "\n",
      "\n"
     ]
    }
   ],
   "source": [
    "print(get_all_details(\"https://devxpress.ca/\"))"
   ]
  },
  {
   "cell_type": "code",
   "execution_count": null,
   "id": "30167bee",
   "metadata": {},
   "outputs": [],
   "source": [
    "system_prompt = \"You are an assistant that analyzes the contents of several relevant pages from a company website \\\n",
    "and creates a short humorous, entertaining, jokey brochure about the company for prospective customers, investors and recruits. Respond in markdown.\\\n",
    "Include details of company culture, customers and careers/jobs if you have the information.\"\n",
    "\n",
    "# system_prompt = \"You are an assistant that analyzes the contents of several relevant pages from a company website \\\n",
    "# and creates a short brochure about the company for prospective customers, investors and recruits. Respond in markdown.\\\n",
    "# Include details of company culture, customers and careers/jobs if you have the information.\""
   ]
  },
  {
   "cell_type": "code",
   "execution_count": 16,
   "id": "7ab30bf6",
   "metadata": {},
   "outputs": [],
   "source": [
    "def get_brochure_user_prompt(company_name, url):\n",
    "    user_prompt = f\"You are looking at a company called: {company_name}\\n\"\n",
    "    user_prompt += f\"Here are the contents of its landing page and other relevant pages; use this information to build a short brochure of the company in markdown.\\n\"\n",
    "    user_prompt += get_all_details(url)\n",
    "    user_prompt = user_prompt[:5_000] # Truncate if more than 5,000 characters\n",
    "    return user_prompt"
   ]
  },
  {
   "cell_type": "code",
   "execution_count": 17,
   "id": "f4c7708a",
   "metadata": {},
   "outputs": [
    {
     "name": "stdout",
     "output_type": "stream",
     "text": [
      "Found links: {'links': [{'type': 'about page', 'url': 'https://devxpress.ca/a-propos.php?lang='}, {'type': 'portfolio page', 'url': 'https://devxpress.ca/portfolio.php?lang='}, {'type': 'contact page', 'url': 'https://devxpress.ca/contact.php?lang='}, {'type': 'facebook', 'url': 'https://www.facebook.com/DevXpressInc/'}, {'type': 'instagram', 'url': 'https://www.instagram.com/devxpress.ca/'}, {'type': 'linkedin', 'url': 'https://www.linkedin.com/company/devxpress/'}]}\n"
     ]
    },
    {
     "data": {
      "text/plain": [
       "\"You are looking at a company called: DevXpress\\nHere are the contents of its landing page and other relevant pages; use this information to build a short brochure of the company in markdown.\\nLanding page:\\nWebpage Title:\\nDevXpress | Agence Web\\nWebpageContents:\\nLoading...\\nHome\\nAbout\\nServices\\nWeb Design\\nSEO Optimization\\nSocial Networks\\nAdvertising Campaigns\\nWeb application\\nMobile app\\nPortfolio\\nBlog\\nContact us\\nFacebook\\nInstagram\\nLinkedIn\\nGet a quote\\nDevXpress\\nWe are\\nYour trusted partners for the creation of websites, technological solutions and digital strategies.\\nOur mission\\nOur mission is to create websites that captivate and engage users. We aim to deliver a seamless user experience, with cutting-edge design and clean, high-performance code.\\nOur\\nValues\\nQuality & Innovation\\nCollaboration & Agility\\nIntegrity & Customer Service\\nRecent Projects\\n- 11 Aug 2024\\n- 09 Aug 2024\\nAppro Expert\\nShowcase site - 17 Jun 2024\\nService Renaud\\nShowcase site - 13 Jun 2024\\nGagné Solution Électrique\\nShowcase site - 07 Jun 2024\\n- 21 May 2024\\nAll our blogs\\nAll our projects\\nWeb Agency Quebec, Montreal\\n2-4275 boul. Maisonneuve West,\\nWestmount, QC, H3Z 1K8\\n[email\\xa0protected]\\n(514) 909-4880\\n\\n\\n\\nabout page\\nWebpage Title:\\nDevXpress | A Propos\\nWebpageContents:\\nChargement...\\nAccueil\\nÀ propos\\nServices\\nConception Web\\nOptimisation SEO\\nRéseaux Sociaux\\nCampagnes Publicitaire\\nApplication Web\\nApplication Mobile\\nPortfolio\\nBlog\\nContactez-nous\\nFacebook\\nInstagram\\nLinkedIn\\nObtenir une soumission\\nAgence web dynamique,\\nBasée a Montréal\\nVenant d'une rencontre de plus de 20 ans, DevXpress a vu le jour en 2022 à la suite d'un partage commun de passion pour les possibilités du digital afin de créer une agence web innovante. Avec notre expertise variée et une vision commune, nous avons fondé notre entreprise dans le but de rendre le web accessible à tous.\\n20\\n+\\nAvis 5⭐\\n100\\n+\\nMandats\\n100\\n%\\nSatisfaction\\n1000\\n+\\nProspects générés\\nEncore plus sur nous\\nObjectif\\nNotre objectif principal est de proposer des solutions digitales créatives et sur mesure, répondant aux besoins spécifiques de chaque client. Animés par notre désir d'innover et de repousser les frontières de la technologie, nous nous sommes engagés à offrir des services de haute qualité, combinant compétences techniques et flair artistique. À travers notre entreprise, nous aspirons à façonner l'avenir du web, en aidant les entreprises et les individus à réussir dans un monde de plus en plus connecté.\\nNotre évolution\\nDepuis sa fondation, notre agence web a parcouru un chemin passionnant, ponctué d'apprentissages enrichissants et de relations florissantes à travers le Québec et partout ailleurs dans le monde. Au fil des années, nous avons consolidé notre expertise technique et affiné notre sens de la créativité, ce qui nous a permis de proposer des solutions digitales toujours plus innovantes et adaptées aux besoins changeants de nos clients.\\nAujourd'hui, nous sommes fiers de constater le chemin parcouru depuis nos modestes débuts. Notre entreprise continue de croître et d'évoluer, nourrie par notre engagement envers l'excellence et notre passion pour l'innovation. Nous sommes impatients de poursuivre notre parcours, de renforcer nos relations avec la communauté et de contribuer au développement continu du paysage digital au Québec et partout ailleurs dans le monde.\\nTémoignages\\n01\\n“Je suis absolument ravi de ma collaboration avec DevXpress. Leur équipe est compétente et créative, et a su répondre à                                        toutes mes attentes pour mon projet en ligne. La communication a été excellente tout au long du processus et j'ai été                                        impressionné par leur capacité à comprendre mes besoins et à les traduire en un site web à la fois esthétique et                                        fonctionnel. Je recommande sans réserve cette agence web pour tous vos projets en ligne.”\\nOlivier Beauchamps\\n“Excellent Service. Des personnes trés compétentes, un plaisir de travailler avec eux.”\\nYannick Kongue\\nKdy-sc\\n“Merci au professionnalisme de Devxpress, le projet s'est bien déroulé et je suis plus que satisfaite du résultat, au top franchement! Vous pouvez leur faire confiance les yeux fermés!”\\nRym Bourezg\\nRymYoga\\n“J'ai travaillé avec DevXpress pour plusieurs de mes projets en ligne et je suis toujours impressionné par leur niveau de                                        qualité et de professionnalisme. Ils sont à l'écoute de mes besoins et me fournissent des solutions créatives pour                                        améliorer mon site web. La mise en œuvre du projet a été rapide et efficace, et le résultat final est fantastique.”\\nSamuel Tremblay\\nAgence Web Québec, Montréal\\n2-4275 boul. Maisonneuve Ouest,\\nWestmount, QC, H3Z 1K8\\n[email\\xa0protected]\\n(514) 909-4880\\n\\n\\n\\nportfolio page\\nWebpage Title:\\nDevXpress | Portfolio\\nWebpageContents:\\nChargement...\\nAccueil\\nÀ propos\\nServices\\nConception Web\\nOptimisation SEO\\nRéseaux Sociaux\\nCampagnes Publicitaire\\nApplication Web\\nApplicatio\""
      ]
     },
     "execution_count": 17,
     "metadata": {},
     "output_type": "execute_result"
    }
   ],
   "source": [
    "get_brochure_user_prompt(\"DevXpress\", \"https://devxpress.ca/\")"
   ]
  },
  {
   "cell_type": "code",
   "execution_count": 20,
   "id": "bf7ab2af",
   "metadata": {},
   "outputs": [],
   "source": [
    "def create_brochure(company_name, url):\n",
    "    response = openai.chat.completions.create(\n",
    "        model=MODEL,\n",
    "        messages=[\n",
    "            {\"role\": \"system\", \"content\": system_prompt},\n",
    "            {\"role\": \"user\", \"content\": get_brochure_user_prompt(company_name, url)}\n",
    "        ],\n",
    "        response_format={\"type\": \"text\"}\n",
    "    )\n",
    "    result = response.choices[0].message.content\n",
    "    display(Markdown(result))"
   ]
  },
  {
   "cell_type": "code",
   "execution_count": 21,
   "id": "1ccc2741",
   "metadata": {},
   "outputs": [
    {
     "name": "stdout",
     "output_type": "stream",
     "text": [
      "Found links: {'links': [{'type': 'about page', 'url': 'https://devxpress.ca/a-propos.php?lang='}, {'type': 'portfolio page', 'url': 'https://devxpress.ca/portfolio.php?lang='}, {'type': 'contact page', 'url': 'https://devxpress.ca/contact.php?lang='}, {'type': 'blog page', 'url': 'https://devxpress.ca/blogs.php?lang='}]}\n"
     ]
    },
    {
     "data": {
      "text/markdown": [
       "# Welcome to the Wacky World of **DevXpress!** 🎉\n",
       "\n",
       "### Your Ultimate Digital Playground\n",
       "\n",
       "At DevXpress, we’re not just flipping the switch on websites; we’re igniting a dazzling digital bonanza! Established in 2022 amidst the hustle and bustle of Montreal, we’re your trusted partners in crafting cutting-edge websites and tech solutions. Forget those boring, cookie-cutter designs! With us, you'll get services that are as original as that third cousin who keeps wearing socks with sandals.\n",
       "\n",
       "## Our Mission: \n",
       "Create websites that *captivate and engage!* 🕵️‍♂️ Think of us as the digital magicians waving our wands, delivering seamless user experiences with stunning designs and squeaky-clean code. Poof! Your perfect site is born!\n",
       "\n",
       "## What We Value:\n",
       "- **Quality & Innovation:** Because who wants second-rate?\n",
       "- **Collaboration & Agility:** Teamwork makes the dream work—especially when it comes to avoiding Monday morning Zoom calls.\n",
       "- **Integrity & Customer Service:** We’ll be there faster than you can say, “Do I need to pay for this?”\n",
       "\n",
       "## Our Clients: \n",
       "We’ve got stars in our eyes! 🌟 With over 100 projects and a sparkling reputation of 20+ five-star reviews, we’re trusted by clients like Olivier Beauchamps and Rym Bourezg—who, by the way, totally thinks we’re the bee's knees!\n",
       "\n",
       "### Feelin' Lucky? Check Out Our Portfolio!\n",
       "From **Web Design** to **Mobile Apps**, our portfolio is like a box of chocolates—except we promise it won’t melt in your hands. With a plethora of happy clients, we’re ready to create fancy digital treats for everyone.\n",
       "\n",
       "## Join the Circus! 🎪\n",
       "### Careers at DevXpress:\n",
       "Want to hop on our digital rollercoaster? We’re always on the lookout for talent with a sprinkle of pizzazz! If you love innovation, have a knack for creativity, and can tolerate our office puns, shoot us your resume quicker than a speeding browser tab!\n",
       "\n",
       "### Come Hang Out:\n",
       "Located in the vibrant heart of Westmount, Montreal, we invite you to swing by or shoot us an email at [hello@devxpress.com](mailto:hello@devxpress.com) for a chat that’s 100% free of sales pitches—unless you're into that sort of thing. 😉\n",
       "\n",
       "## Connect with Us! \n",
       "- 📱 Facebook, Instagram, LinkedIn\n",
       "- 💌 Send us a message and let’s get the digital party started!\n",
       "\n",
       "### DevXpress: \n",
       "Where we turn your digital dreams into reality—without a wand, just a lot of coffee and maybe a slice of cake! 🍰 \n",
       "\n",
       "---\n",
       "\n",
       "_DevXpress: Your delightfully quirky digital service agency—because your website deserves a personality!_"
      ],
      "text/plain": [
       "<IPython.core.display.Markdown object>"
      ]
     },
     "metadata": {},
     "output_type": "display_data"
    }
   ],
   "source": [
    "create_brochure(\"DevXpress\", \"https://devxpress.ca/\")"
   ]
  },
  {
   "cell_type": "markdown",
   "id": "d3b5bf70",
   "metadata": {},
   "source": [
    "Bonus: typewriter animation"
   ]
  },
  {
   "cell_type": "code",
   "execution_count": 30,
   "id": "1e53eeab",
   "metadata": {},
   "outputs": [],
   "source": [
    "def stream_brochure(company_name, url):\n",
    "    stream = openai.chat.completions.create(\n",
    "        model=MODEL,\n",
    "        messages=[\n",
    "            {\"role\": \"system\", \"content\": system_prompt},\n",
    "            {\"role\": \"user\", \"content\": get_brochure_user_prompt(company_name, url)}\n",
    "          ],\n",
    "        stream=True\n",
    "    )\n",
    "\n",
    "    response = \"\"\n",
    "    display_handle = display(Markdown(\"\"), display_id=True)\n",
    "     \n",
    "    # Process the stream\n",
    "    for chunk in stream:\n",
    "        if hasattr(chunk.choices[0].delta, 'content') and chunk.choices[0].delta.content:\n",
    "            # Get new content\n",
    "            new_content = chunk.choices[0].delta.content\n",
    "            # Add to running response\n",
    "            response += new_content\n",
    "            # Update the display with markdown formatting\n",
    "            update_display(Markdown(response), display_id=display_handle.display_id)\n",
    "            # Small delay for typewriter effect\n",
    "            import time\n",
    "            time.sleep(0.01)"
   ]
  },
  {
   "cell_type": "code",
   "execution_count": 31,
   "id": "212d2cff",
   "metadata": {},
   "outputs": [
    {
     "name": "stdout",
     "output_type": "stream",
     "text": [
      "Found links: {'links': [{'type': 'about page', 'url': 'https://devxpress.ca/a-propos.php?lang='}, {'type': 'portfolio page', 'url': 'https://devxpress.ca/portfolio.php?lang='}, {'type': 'blog page', 'url': 'https://devxpress.ca/blogs.php?lang='}, {'type': 'contact page', 'url': 'https://devxpress.ca/contact.php?lang='}, {'type': 'facebook', 'url': 'https://www.facebook.com/DevXpressInc/'}, {'type': 'instagram', 'url': 'https://www.instagram.com/devxpress.ca/'}, {'type': 'linkedin', 'url': 'https://www.linkedin.com/company/devxpress/'}]}\n"
     ]
    },
    {
     "data": {
      "text/markdown": [
       "# Welcome to DevXpress! 🚀\n",
       "\n",
       "### Your Go-To Web Wizards, One Pixel at a Time\n",
       "\n",
       "#### Who Are We? \n",
       "At DevXpress, we're not just a web agency; we're your digital best friends! Founded in 2022 by a group of passionate techies with over 20 years of collaboration under our belts, we sprinkle innovation on the Internet like it's confetti. 💻✨\n",
       "\n",
       "#### Our Superpowers\n",
       "We make websites that *attract* users like moths to a flame. With a mission to provide seamless user experiences through captivating designs and turbo-charged code, we are dedicated to keeping your digital dreams alive. \n",
       "\n",
       "Our offerings include:\n",
       "- **Web Design** - Because your website should look as good as your cat memes! 🐱\n",
       "- **SEO Optimization** - We’ll get you ranking higher than that one annoying celebrity on Google! 🎤\n",
       "- **Social Networks** - Making sure your likes are piled high like a mountain of ice cream. 🍦\n",
       "- **Advertising Campaigns** - Because who doesn’t want their product to be the next shiny thing on Instagram?! 📱\n",
       "- **Web Applications & Mobile Apps** - If it’s got pixels, we can create it! 📲\n",
       "\n",
       "#### Our Values (And We're Not Just Saying This)\n",
       "- **Quality & Innovation** - We don’t just follow trends; we start them!\n",
       "- **Collaboration & Agility** - Like a dance party, we move beautifully together! 💃🕺\n",
       "- **Integrity & Customer Service** - We’ll treat you like family (the good kind, not that weird uncle)! 🤗\n",
       "\n",
       "#### Our Customers\n",
       "From small local businesses to large enterprises, our clients are as varied as the toppings on a pizza! 🍕 We’re on a quest to help YOU turn your online vision into a digital reality.\n",
       "\n",
       "#### What Our Customers Say\n",
       "Here’s what happy (and not-so-silent) customers are saying about us:\n",
       "- \"DevXpress took my expectations, spun them around, and delivered something even better! I can't recommend them enough!\" – *Olivier Beauchamps*\n",
       "- \"They cleaned up my online presence faster than my dog can shred a new shoe!\" – *Yannick Kongue*\n",
       "- \"Thanks to DevXpress, my yoga studio’s website flows with serenity! I can finally stretch properly instead of pulling my hair out.\" – *Rym Bourezg*\n",
       "\n",
       "#### Join Our Team! 🧑‍💻\n",
       "Looking to work with a bunch of creative geniuses who also know how to have fun? We’re always on the lookout for new talent! If you’re ready to roll up your sleeves, get your geek on, and make the Internet a more magical place, drop us a line.\n",
       "\n",
       "#### Let’s Connect!\n",
       "- **Address:** 2-4275 boul. Maisonneuve West, Westmount, QC, H3Z 1K8\n",
       "- **Email:** [contact@devxpress.com](mailto:contact@devxpress.com)\n",
       "- **Phone:** (514) 909-4880  \n",
       "- **Follow Us:** Facebook | Instagram | LinkedIn  \n",
       "\n",
       "So what are you waiting for? Whether you need a website that dazzles or a job that inspires, join the DevXpress delight today! 🙌💼"
      ],
      "text/plain": [
       "<IPython.core.display.Markdown object>"
      ]
     },
     "metadata": {},
     "output_type": "display_data"
    }
   ],
   "source": [
    "stream_brochure(\"DevXpress\", \"https://devxpress.ca/\")"
   ]
  }
 ],
 "metadata": {
  "kernelspec": {
   "display_name": "llms",
   "language": "python",
   "name": "python3"
  },
  "language_info": {
   "codemirror_mode": {
    "name": "ipython",
    "version": 3
   },
   "file_extension": ".py",
   "mimetype": "text/x-python",
   "name": "python",
   "nbconvert_exporter": "python",
   "pygments_lexer": "ipython3",
   "version": "3.12.7"
  }
 },
 "nbformat": 4,
 "nbformat_minor": 5
}
