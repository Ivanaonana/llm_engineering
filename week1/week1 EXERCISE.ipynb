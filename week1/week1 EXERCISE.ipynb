{
 "cells": [
  {
   "cell_type": "markdown",
   "id": "fe12c203-e6a6-452c-a655-afb8a03a4ff5",
   "metadata": {},
   "source": [
    "# End of week 1 exercise\n",
    "\n",
    "To demonstrate your familiarity with OpenAI API, and also Ollama, build a tool that takes a technical question,  \n",
    "and responds with an explanation. This is a tool that you will be able to use yourself during the course!"
   ]
  },
  {
   "cell_type": "code",
   "execution_count": 16,
   "id": "c1070317-3ed9-4659-abe3-828943230e03",
   "metadata": {},
   "outputs": [],
   "source": [
    "# imports\n",
    "import os\n",
    "from dotenv import load_dotenv\n",
    "from IPython.display import Markdown, display, update_display\n",
    "from openai import OpenAI\n",
    "import ollama"
   ]
  },
  {
   "cell_type": "code",
   "execution_count": 17,
   "id": "4a456906-915a-4bfd-bb9d-57e505c5093f",
   "metadata": {},
   "outputs": [],
   "source": [
    "# constants\n",
    "\n",
    "MODEL_GPT = 'gpt-4o-mini'\n",
    "MODEL_OLLAMA = \"llama3.2\""
   ]
  },
  {
   "cell_type": "code",
   "execution_count": 18,
   "id": "a8d7923c-5f28-4c30-8556-342d7c8497c1",
   "metadata": {},
   "outputs": [
    {
     "name": "stdout",
     "output_type": "stream",
     "text": [
      "API key looks good so far\n"
     ]
    }
   ],
   "source": [
    "# set up environment\n",
    "load_dotenv(override=True)\n",
    "api_key = os.getenv('OPENAI_API_KEY')\n",
    "\n",
    "if api_key and api_key.startswith('sk-') and len(api_key) > 10:\n",
    "    print(\"API key looks good so far\")\n",
    "else:\n",
    "    print(\"There might be a problem with your API key!\")\n"
   ]
  },
  {
   "cell_type": "code",
   "execution_count": null,
   "id": "43e70098",
   "metadata": {},
   "outputs": [],
   "source": [
    "system_prompt = \"You are a humourous and gentle teacher on programming\\\n",
    "    and answer students' question simplicity\\\n",
    "    include metaphors to help student better understand the problem and the solution\""
   ]
  },
  {
   "cell_type": "code",
   "execution_count": 20,
   "id": "3f0d0137-52b0-47a8-81a8-11a90a010798",
   "metadata": {},
   "outputs": [],
   "source": [
    "question = \"\"\"\n",
    "Please explain what this code does and why:\n",
    "yield from {book.get(\"author\") for book in books if book.get(\"author\")}\n",
    "\"\"\""
   ]
  },
  {
   "cell_type": "code",
   "execution_count": 21,
   "id": "3f9e0c9b",
   "metadata": {},
   "outputs": [],
   "source": [
    "user_prompt = \"Please explain it to me as if I am 10 years old\" + question"
   ]
  },
  {
   "cell_type": "code",
   "execution_count": 22,
   "id": "dc513a75",
   "metadata": {},
   "outputs": [],
   "source": [
    "messages = [\n",
    "    {\"role\": \"system\", \"content\": system_prompt},\n",
    "    {\"role\": \"user\", \"content\": question}\n",
    "]"
   ]
  },
  {
   "cell_type": "code",
   "execution_count": 23,
   "id": "949282c2",
   "metadata": {},
   "outputs": [],
   "source": [
    "openai = OpenAI()"
   ]
  },
  {
   "cell_type": "code",
   "execution_count": 31,
   "id": "e9fe3800",
   "metadata": {},
   "outputs": [
    {
     "data": {
      "text/markdown": [
       "Let's break down the code snippet you've provided step by step, so we can understand its purpose and functionality clearly.\n",
       "\n",
       "### Understanding the Code\n",
       "\n",
       "The code is:\n",
       "\n",
       "```python\n",
       "yield from {book.get(\"author\") for book in books if book.get(\"author\")}\n",
       "```\n",
       "\n",
       "At first glance, this looks like a line of Python code that is using two significant features of the language: **set comprehensions** and the `yield` statement.\n",
       "\n",
       "#### 1. **Set Comprehensions**\n",
       "\n",
       "The portion `{book.get(\"author\") for book in books if book.get(\"author\")}` is a set comprehension. Here’s how it works:\n",
       "\n",
       "- **Set**: A set in Python is a collection of unique items. It eliminates duplicate entries, so you won't have multiple instances of the same value.\n",
       "- **Comprehension**: This is a syntactic construct for creating new sequences (like lists, sets, etc.) by specifying how the elements should be derived from some iterable (like a list).\n",
       "\n",
       "The comprehension does the following:\n",
       "- **Iterates over** `books`: This is presumably a list of dictionaries, with each dictionary representing a book.\n",
       "- **For each `book`**, it attempts to get the value associated with the key `\"author\"` using `book.get(\"author\")`.\n",
       "- **Filters**: The `if book.get(\"author\")` part checks whether the `\"author\"` exists and has a truthy value (not `None` or an empty string). It ensures that only books with a valid author are included in the resulting set.\n",
       "\n",
       "#### 2. **Using `yield from`**\n",
       "\n",
       "The `yield from` statement is part of Python's generator feature. Here’s how it works:\n",
       "\n",
       "- **Generators**: A function that uses `yield` returns a generator object. This means it produces items one at a time and allows the function to return multiple values without stopping the execution of the function completely.\n",
       "- **`yield from`** allows the generator to yield all values from another iterable (in this case, the set of authors created by the set comprehension).\n",
       "\n",
       "### Putting It All Together\n",
       "\n",
       "So, what does this code do overall?\n",
       "\n",
       "1. It creates a **set** of unique authors from a list of books (where each book is a dictionary).\n",
       "2. It only includes authors for books that actually have an author listed (non-empty).\n",
       "3. It then **yields** each unique author one at a time, allowing whatever calls this generator function to receive each author sequentially, rather than all at once.\n",
       "\n",
       "### Analogy\n",
       "\n",
       "Imagine you are hosting a gathering (the generator function) and want to invite guests (the authors from the books). You have a list of potential guests (the list of books), but you only want to invite those who have formally RSVPd (books that have a valid author).\n",
       "\n",
       "1. **Set Comprehension**: This is like going through the list of potential guests and creating a unique list of confirmed attendees (the set of authors). You ensure no one shows up with the same name by using a set.\n",
       "   \n",
       "2. **Yield from**: When the guests arrive, you welcome each one individually at the door (yield each author). Instead of gathering everyone in the house at once, you let them in one by one, which creates a more organized entry.\n",
       "\n",
       "### Summary\n",
       "\n",
       "To summarize, this code creates a set of unique authors from a collection of book dictionaries and yields each author one by one if they exist. It is an efficient way to gather and present data, particularly in cases where the order and uniqueness of elements are important.\n",
       "\n",
       "If you have any further questions or need clarification on any part of this explanation, feel free to ask!"
      ],
      "text/plain": [
       "<IPython.core.display.Markdown object>"
      ]
     },
     "metadata": {},
     "output_type": "display_data"
    }
   ],
   "source": [
    "# Get gpt-4o-mini to answer, with streaming\n",
    "\n",
    "stream = openai.chat.completions.create(\n",
    "    model=MODEL_GPT,\n",
    "    messages=messages,\n",
    "    stream=True\n",
    ")\n",
    "\n",
    "response = \"\"\n",
    "display_handle = display(Markdown(\"\"), display_id=True)\n",
    "\n",
    "for chunk in stream:\n",
    "        if hasattr(chunk.choices[0].delta, 'content') and chunk.choices[0].delta.content:\n",
    "            # Get new content\n",
    "            new_content = chunk.choices[0].delta.content\n",
    "            # Add to running response\n",
    "            response += new_content\n",
    "            # Update the display with markdown formatting\n",
    "            update_display(Markdown(response), display_id=display_handle.display_id)\n",
    "            # Small delay for typewriter effect\n",
    "            import time\n",
    "            time.sleep(0.01)"
   ]
  },
  {
   "cell_type": "code",
   "execution_count": 25,
   "id": "8f7c8ea8-4082-4ad0-8751-3301adcf6538",
   "metadata": {},
   "outputs": [
    {
     "data": {
      "text/markdown": [
       "My curious student, let's dive into the world of generators and dictionary traversals.\n",
       "\n",
       "**The Code:**\n",
       "```python\n",
       "yield from {book.get(\"author\") for book in books if book.get(\"author\")}\n",
       "```\n",
       "**Breakdown:**\n",
       "\n",
       "1. `{...}` is a dictionary comprehension, which creates a new dictionary with key-value pairs.\n",
       "2. `for book in books` iterates over the `books` list and assigns each item to the variable `book`.\n",
       "3. `if book.get(\"author\")` filters the books to only include those that have an `\"author\"` key present in their dictionary.\n",
       "\n",
       "**What's happening:**\n",
       "\n",
       "This code is using a combination of generator expressions and dictionary comprehensions to extract the authors from a list of dictionaries, filtering out any books without an author.\n",
       "\n",
       "Here's a step-by-step explanation:\n",
       "\n",
       "1. The outer comprehension `{...}` creates a new dictionary that will store the authors.\n",
       "2. For each book in `books`, the inner comprehension runs:\n",
       "\t* `book.get(\"author\")` retrieves the value associated with the `\"author\"` key, if it exists. If not, this returns `None`.\n",
       "\t* The author's name is added to the outer dictionary using the dictionary assignment syntax (`{...}`).\n",
       "3. Since we're using a dictionary comprehension, the resulting dictionary will be populated only with the keys that have valid values (i.e., authors).\n",
       "\n",
       "**Why `yield from`:**\n",
       "\n",
       "The `yield from` keyword is used to delegate iteration to another generator expression or iterable. In this case, it's used to yield all the key-value pairs of the inner dictionary comprehension.\n",
       "\n",
       "Think of `yield from` like a \"pass through\" statement. Instead of creating a new list of authors, we're using this syntax to transfer control to the inner comprehension, which generates the actual values (the authors). The outer dictionary comprehension then collects these values in a single data structure.\n",
       "\n",
       "**What does it return?**\n",
       "\n",
       "This code doesn't explicitly return a value; instead, it yields a sequence of authors. You can use a `for` loop or an iterator to consume this sequence:\n",
       "```python\n",
       "authors = yield from {book.get(\"author\") for book in books if book.get(\"author\")}\n",
       "for author in authors:\n",
       "    print(author)\n",
       "```\n",
       "Or, using a more functional approach:\n",
       "```python\n",
       "for author in yield from {book.get(\"author\") for book in books if book.get(\"author\")}:\n",
       "    print(author)\n",
       "```\n",
       "In both cases, we're iterating over the sequence of authors generated by the inner comprehension.\n",
       "\n",
       "I hope this explanation has illuminated the world of generator expressions and dictionary comprehensions for you!"
      ],
      "text/plain": [
       "<IPython.core.display.Markdown object>"
      ]
     },
     "metadata": {},
     "output_type": "display_data"
    }
   ],
   "source": [
    "# Get Llama 3.2 to answer\n",
    "\n",
    "stream = ollama.chat(\n",
    "            model=MODEL_OLLAMA,\n",
    "            messages=messages,\n",
    "            stream=True\n",
    "        )\n",
    "\n",
    "response = \"\"\n",
    "display_handle = display(Markdown(\"\"),display_id=True)\n",
    "\n",
    "for chunk in stream:\n",
    "    if 'message' in chunk and 'content' in chunk['message']:\n",
    "        new_content = chunk['message']['content']\n",
    "        response += new_content\n",
    "        update_display(Markdown(response), display_id=display_handle.display_id)\n",
    "        time.sleep(0.01)"
   ]
  }
 ],
 "metadata": {
  "kernelspec": {
   "display_name": "llms",
   "language": "python",
   "name": "python3"
  },
  "language_info": {
   "codemirror_mode": {
    "name": "ipython",
    "version": 3
   },
   "file_extension": ".py",
   "mimetype": "text/x-python",
   "name": "python",
   "nbconvert_exporter": "python",
   "pygments_lexer": "ipython3",
   "version": "3.12.7"
  }
 },
 "nbformat": 4,
 "nbformat_minor": 5
}
